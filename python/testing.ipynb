{
 "cells": [
  {
   "cell_type": "code",
   "execution_count": 1,
   "metadata": {},
   "outputs": [],
   "source": [
    "import metawards as mw\n",
    "from pygsl import rng as gsl_rng"
   ]
  },
  {
   "cell_type": "code",
   "execution_count": 2,
   "metadata": {},
   "outputs": [],
   "source": [
    "seed = 15324   # random number seed"
   ]
  },
  {
   "cell_type": "code",
   "execution_count": 3,
   "metadata": {},
   "outputs": [],
   "source": [
    "inputfile = \"../Testing/ncovparams.csv\"  # input parameters"
   ]
  },
  {
   "cell_type": "code",
   "execution_count": 4,
   "metadata": {},
   "outputs": [],
   "source": [
    "line_num = 0   # line number in input file to use for parameters"
   ]
  },
  {
   "cell_type": "code",
   "execution_count": 5,
   "metadata": {},
   "outputs": [],
   "source": [
    "UV = 1.0 # UV value"
   ]
  },
  {
   "cell_type": "code",
   "execution_count": 6,
   "metadata": {},
   "outputs": [],
   "source": [
    "rng = gsl_rng.rng()"
   ]
  },
  {
   "cell_type": "code",
   "execution_count": 7,
   "metadata": {},
   "outputs": [],
   "source": [
    "rng.set(seed)"
   ]
  },
  {
   "cell_type": "code",
   "execution_count": 8,
   "metadata": {},
   "outputs": [],
   "source": [
    "params = mw.Parameters.create(\"ncov\")"
   ]
  },
  {
   "cell_type": "code",
   "execution_count": 9,
   "metadata": {},
   "outputs": [
    {
     "name": "stdout",
     "output_type": "stream",
     "text": [
      "Reading in parameters from line 0 of ../Testing/ncovparams.csv\n"
     ]
    }
   ],
   "source": [
    "params.read_file(inputfile, line_num)"
   ]
  },
  {
   "cell_type": "code",
   "execution_count": 10,
   "metadata": {},
   "outputs": [],
   "source": [
    "params.UV = UV"
   ]
  },
  {
   "cell_type": "code",
   "execution_count": 11,
   "metadata": {},
   "outputs": [
    {
     "name": "stdout",
     "output_type": "stream",
     "text": [
      "Using input files:\n",
      "work = /Users/chris/GitHub/MetaWards/python/metawards/data/2011Data/EW1.dat\n",
      "play = /Users/chris/GitHub/MetaWards/python/metawards/data/2011Data/PlayMatrix.dat\n",
      "identifier = None\n",
      "identifier2 = None\n",
      "weekend = None\n",
      "play_size = /Users/chris/GitHub/MetaWards/python/metawards/data/2011Data/PlaySize.dat\n",
      "position = /Users/chris/GitHub/MetaWards/python/metawards/data/2011Data/CBB2011.dat\n",
      "seed = /Users/chris/GitHub/MetaWards/python/metawards/data/2011Data/seeds.dat\n",
      "nodes_to_track = /Users/chris/GitHub/MetaWards/python/metawards/data/2011Data/seeds.dat\n",
      "additional_seeding = /Users/chris/GitHub/MetaWards/python/metawards/data/2011Data/ExtraSeedsBrighton.dat\n",
      "\n"
     ]
    }
   ],
   "source": [
    "params.set_input_files(4)"
   ]
  },
  {
   "cell_type": "code",
   "execution_count": 12,
   "metadata": {},
   "outputs": [
    {
     "name": "stdout",
     "output_type": "stream",
     "text": [
      "/Users/chris/GitHub/MetaWards/python/metawards/data/2011Data/seeds.dat -- \n"
     ]
    }
   ],
   "source": [
    "to_seed = mw.read_done_file(params.input_files.seed)"
   ]
  },
  {
   "cell_type": "code",
   "execution_count": 13,
   "metadata": {},
   "outputs": [
    {
     "name": "stdout",
     "output_type": "stream",
     "text": [
      "[12.0]\n",
      "Number of seeds equals 1\n"
     ]
    }
   ],
   "source": [
    "nseeds = len(to_seed)\n",
    "print(to_seed)\n",
    "print(f\"Number of seeds equals {nseeds}\")"
   ]
  },
  {
   "cell_type": "code",
   "execution_count": 14,
   "metadata": {},
   "outputs": [
    {
     "ename": "ValueError",
     "evalue": "/Users/chris/GitHub/MetaWards/python/metawards/data/2011Data/EW1.dat is corrupted or unreadble? Error = 2",
     "output_type": "error",
     "traceback": [
      "\u001b[0;31m---------------------------------------------------------------------------\u001b[0m",
      "\u001b[0;31mKeyError\u001b[0m                                  Traceback (most recent call last)",
      "\u001b[0;32m~/GitHub/MetaWards/python/metawards/_metawards.py\u001b[0m in \u001b[0;36mbuild_wards_network\u001b[0;34m(params)\u001b[0m\n\u001b[1;32m     92\u001b[0m                 \u001b[0mnodes\u001b[0m\u001b[0;34m[\u001b[0m\u001b[0mfrom_id\u001b[0m\u001b[0;34m]\u001b[0m\u001b[0;34m.\u001b[0m\u001b[0mdenominator_n\u001b[0m \u001b[0;34m+=\u001b[0m \u001b[0mint\u001b[0m\u001b[0;34m(\u001b[0m\u001b[0mweight\u001b[0m\u001b[0;34m)\u001b[0m\u001b[0;34m\u001b[0m\u001b[0;34m\u001b[0m\u001b[0m\n\u001b[0;32m---> 93\u001b[0;31m                 \u001b[0mnodes\u001b[0m\u001b[0;34m[\u001b[0m\u001b[0mto_id\u001b[0m\u001b[0;34m]\u001b[0m\u001b[0;34m.\u001b[0m\u001b[0mdenominator_d\u001b[0m \u001b[0;34m+=\u001b[0m \u001b[0mint\u001b[0m\u001b[0;34m(\u001b[0m\u001b[0mweight\u001b[0m\u001b[0;34m)\u001b[0m\u001b[0;34m\u001b[0m\u001b[0;34m\u001b[0m\u001b[0m\n\u001b[0m\u001b[1;32m     94\u001b[0m \u001b[0;34m\u001b[0m\u001b[0m\n",
      "\u001b[0;31mKeyError\u001b[0m: 2",
      "\nDuring handling of the above exception, another exception occurred:\n",
      "\u001b[0;31mValueError\u001b[0m                                Traceback (most recent call last)",
      "\u001b[0;32m<ipython-input-14-cfd4479eb6a7>\u001b[0m in \u001b[0;36m<module>\u001b[0;34m\u001b[0m\n\u001b[0;32m----> 1\u001b[0;31m \u001b[0mnetwork\u001b[0m \u001b[0;34m=\u001b[0m \u001b[0mmw\u001b[0m\u001b[0;34m.\u001b[0m\u001b[0mbuild_wards_network_distance\u001b[0m\u001b[0;34m(\u001b[0m\u001b[0mparams\u001b[0m\u001b[0;34m)\u001b[0m\u001b[0;34m\u001b[0m\u001b[0;34m\u001b[0m\u001b[0m\n\u001b[0m",
      "\u001b[0;32m~/GitHub/MetaWards/python/metawards/_metawards.py\u001b[0m in \u001b[0;36mbuild_wards_network_distance\u001b[0;34m(params)\u001b[0m\n\u001b[1;32m    123\u001b[0m     \"\"\"\n\u001b[1;32m    124\u001b[0m \u001b[0;34m\u001b[0m\u001b[0m\n\u001b[0;32m--> 125\u001b[0;31m     \u001b[0mnetwork\u001b[0m \u001b[0;34m=\u001b[0m \u001b[0mbuild_wards_network\u001b[0m\u001b[0;34m(\u001b[0m\u001b[0mparams\u001b[0m\u001b[0;34m)\u001b[0m\u001b[0;34m\u001b[0m\u001b[0;34m\u001b[0m\u001b[0m\n\u001b[0m\u001b[1;32m    126\u001b[0m \u001b[0;34m\u001b[0m\u001b[0m\n\u001b[1;32m    127\u001b[0m \u001b[0;34m\u001b[0m\u001b[0m\n",
      "\u001b[0;32m~/GitHub/MetaWards/python/metawards/_metawards.py\u001b[0m in \u001b[0;36mbuild_wards_network\u001b[0;34m(params)\u001b[0m\n\u001b[1;32m     95\u001b[0m                 \u001b[0mline\u001b[0m \u001b[0;34m=\u001b[0m \u001b[0mFILE\u001b[0m\u001b[0;34m.\u001b[0m\u001b[0mreadline\u001b[0m\u001b[0;34m(\u001b[0m\u001b[0;34m)\u001b[0m\u001b[0;34m\u001b[0m\u001b[0;34m\u001b[0m\u001b[0m\n\u001b[1;32m     96\u001b[0m     \u001b[0;32mexcept\u001b[0m \u001b[0mException\u001b[0m \u001b[0;32mas\u001b[0m \u001b[0me\u001b[0m\u001b[0;34m:\u001b[0m\u001b[0;34m\u001b[0m\u001b[0;34m\u001b[0m\u001b[0m\n\u001b[0;32m---> 97\u001b[0;31m         raise ValueError(f\"{params.input_files.work} is corrupted or \"\n\u001b[0m\u001b[1;32m     98\u001b[0m                          f\"unreadble? Error = {e}\")\n\u001b[1;32m     99\u001b[0m \u001b[0;34m\u001b[0m\u001b[0m\n",
      "\u001b[0;31mValueError\u001b[0m: /Users/chris/GitHub/MetaWards/python/metawards/data/2011Data/EW1.dat is corrupted or unreadble? Error = 2"
     ]
    }
   ],
   "source": [
    "network = mw.build_wards_network_distance(params)"
   ]
  },
  {
   "cell_type": "code",
   "execution_count": null,
   "metadata": {},
   "outputs": [],
   "source": []
  }
 ],
 "metadata": {
  "kernelspec": {
   "display_name": "Python 3",
   "language": "python",
   "name": "python3"
  },
  "language_info": {
   "codemirror_mode": {
    "name": "ipython",
    "version": 3
   },
   "file_extension": ".py",
   "mimetype": "text/x-python",
   "name": "python",
   "nbconvert_exporter": "python",
   "pygments_lexer": "ipython3",
   "version": "3.7.4"
  }
 },
 "nbformat": 4,
 "nbformat_minor": 4
}
