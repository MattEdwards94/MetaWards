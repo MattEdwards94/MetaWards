{
 "cells": [
  {
   "cell_type": "code",
   "execution_count": 1,
   "metadata": {},
   "outputs": [],
   "source": [
    "import metawards as mw\n",
    "from pygsl import rng as gsl_rng\n",
    "from dataclasses import dataclass"
   ]
  },
  {
   "cell_type": "code",
   "execution_count": 2,
   "metadata": {},
   "outputs": [],
   "source": [
    "seed = 15324   # random number seed"
   ]
  },
  {
   "cell_type": "code",
   "execution_count": 3,
   "metadata": {},
   "outputs": [],
   "source": [
    "inputfile = \"../Testing/ncovparams.csv\"  # input parameters"
   ]
  },
  {
   "cell_type": "code",
   "execution_count": 4,
   "metadata": {},
   "outputs": [],
   "source": [
    "line_num = 0   # line number in input file to use for parameters"
   ]
  },
  {
   "cell_type": "code",
   "execution_count": 5,
   "metadata": {},
   "outputs": [],
   "source": [
    "UV = 1.0 # UV value"
   ]
  },
  {
   "cell_type": "code",
   "execution_count": 6,
   "metadata": {},
   "outputs": [],
   "source": [
    "rng = gsl_rng.rng()"
   ]
  },
  {
   "cell_type": "code",
   "execution_count": 7,
   "metadata": {},
   "outputs": [],
   "source": [
    "rng.set(seed)"
   ]
  },
  {
   "cell_type": "code",
   "execution_count": 8,
   "metadata": {},
   "outputs": [],
   "source": [
    "params = mw.Parameters.create(\"ncov\")"
   ]
  },
  {
   "cell_type": "code",
   "execution_count": 9,
   "metadata": {},
   "outputs": [
    {
     "name": "stdout",
     "output_type": "stream",
     "text": [
      "Reading in parameters from line 0 of ../Testing/ncovparams.csv\n"
     ]
    }
   ],
   "source": [
    "params.read_file(inputfile, line_num)"
   ]
  },
  {
   "cell_type": "code",
   "execution_count": 10,
   "metadata": {},
   "outputs": [],
   "source": [
    "params.UV = UV"
   ]
  },
  {
   "cell_type": "code",
   "execution_count": 11,
   "metadata": {},
   "outputs": [
    {
     "name": "stdout",
     "output_type": "stream",
     "text": [
      "Using input files:\n",
      "work = /Users/chris/GitHub/MetaWards/python/metawards/data/2011Data/EW1.dat\n",
      "play = /Users/chris/GitHub/MetaWards/python/metawards/data/2011Data/PlayMatrix.dat\n",
      "identifier = None\n",
      "identifier2 = None\n",
      "weekend = None\n",
      "play_size = /Users/chris/GitHub/MetaWards/python/metawards/data/2011Data/PlaySize.dat\n",
      "position = /Users/chris/GitHub/MetaWards/python/metawards/data/2011Data/CBB2011.dat\n",
      "seed = /Users/chris/GitHub/MetaWards/python/metawards/data/2011Data/seeds.dat\n",
      "nodes_to_track = /Users/chris/GitHub/MetaWards/python/metawards/data/2011Data/seeds.dat\n",
      "additional_seeding = /Users/chris/GitHub/MetaWards/python/metawards/data/2011Data/ExtraSeedsBrighton.dat\n",
      "\n",
      "['additional_seeding', 'identifier', 'identifier2', 'nodes_to_track', 'play', 'play_size', 'position', 'seed', 'uv', 'weekend', 'work']\n"
     ]
    }
   ],
   "source": [
    "params.set_input_files(4)"
   ]
  },
  {
   "cell_type": "code",
   "execution_count": null,
   "metadata": {},
   "outputs": [],
   "source": []
  }
 ],
 "metadata": {
  "kernelspec": {
   "display_name": "Python 3",
   "language": "python",
   "name": "python3"
  },
  "language_info": {
   "codemirror_mode": {
    "name": "ipython",
    "version": 3
   },
   "file_extension": ".py",
   "mimetype": "text/x-python",
   "name": "python",
   "nbconvert_exporter": "python",
   "pygments_lexer": "ipython3",
   "version": "3.7.4"
  }
 },
 "nbformat": 4,
 "nbformat_minor": 4
}
