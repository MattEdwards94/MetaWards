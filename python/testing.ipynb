{
 "cells": [
  {
   "cell_type": "code",
   "execution_count": 1,
   "metadata": {},
   "outputs": [],
   "source": [
    "import metawards as mw\n",
    "from pygsl import rng as gsl_rng\n",
    "from dataclasses import dataclass"
   ]
  },
  {
   "cell_type": "code",
   "execution_count": 2,
   "metadata": {},
   "outputs": [],
   "source": [
    "seed = 15324   # random number seed"
   ]
  },
  {
   "cell_type": "code",
   "execution_count": 3,
   "metadata": {},
   "outputs": [],
   "source": [
    "inputfile = \"../Testing/ncovparams.csv\"  # input parameters"
   ]
  },
  {
   "cell_type": "code",
   "execution_count": 4,
   "metadata": {},
   "outputs": [],
   "source": [
    "line_num = 0   # line number in input file to use for parameters"
   ]
  },
  {
   "cell_type": "code",
   "execution_count": 5,
   "metadata": {},
   "outputs": [],
   "source": [
    "param = 1     # parameter to be determined"
   ]
  },
  {
   "cell_type": "code",
   "execution_count": 6,
   "metadata": {},
   "outputs": [],
   "source": [
    "rng = gsl_rng.rng()"
   ]
  },
  {
   "cell_type": "code",
   "execution_count": 7,
   "metadata": {},
   "outputs": [],
   "source": [
    "rng.set(seed)"
   ]
  },
  {
   "cell_type": "code",
   "execution_count": 8,
   "metadata": {},
   "outputs": [],
   "source": [
    "params = mw.Parameters.create(\"ncov\")"
   ]
  },
  {
   "cell_type": "code",
   "execution_count": 9,
   "metadata": {},
   "outputs": [
    {
     "data": {
      "text/plain": [
       "Parameters(WorkName=None, PlayName=None, WeekendName=None, IdentifierName=None, IdentifierName2=None, PositionName=None, PlaySizeName=None, SeedName=None, NodesToTrack=None, AdditionalSeeding=None, UVFilename=None, beta=[0.0, 0.0, 0.95, 0.95, 0.0], TooIllToMove=[0.0, 0.0, 0.0, 0.0, 0.0], Progress=[1.0, 0.1923, 0.909091, 0.909091, 0.0], ContribFOI=[1.0, 1.0, 1.0, 1.0, 0.0], LengthDay=0.7, PLengthDay=0.5, initial_inf=5, StaticPlayAtHome=0, DynPlayAtHome=0, DataDistCutoff=10000000, DynDistCutoff=10000000, PlayToWork=0.0, WorkToPlay=0.0, LocalVaccinationThresh=4, GlobalDetectionThresh=4, DailyWardVaccinationCapacity=5, NeighbourWeightThreshold=0.0, DailyImports=None, UV=0.0)"
      ]
     },
     "execution_count": 9,
     "metadata": {},
     "output_type": "execute_result"
    }
   ],
   "source": [
    "params"
   ]
  },
  {
   "cell_type": "code",
   "execution_count": null,
   "metadata": {},
   "outputs": [],
   "source": []
  }
 ],
 "metadata": {
  "kernelspec": {
   "display_name": "Python 3",
   "language": "python",
   "name": "python3"
  },
  "language_info": {
   "codemirror_mode": {
    "name": "ipython",
    "version": 3
   },
   "file_extension": ".py",
   "mimetype": "text/x-python",
   "name": "python",
   "nbconvert_exporter": "python",
   "pygments_lexer": "ipython3",
   "version": "3.7.4"
  }
 },
 "nbformat": 4,
 "nbformat_minor": 4
}
